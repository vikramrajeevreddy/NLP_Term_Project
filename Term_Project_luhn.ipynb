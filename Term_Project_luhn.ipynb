{
  "nbformat": 4,
  "nbformat_minor": 0,
  "metadata": {
    "colab": {
      "name": "Term_Project_luhn.ipynb",
      "provenance": [],
      "collapsed_sections": [],
      "authorship_tag": "ABX9TyPiPa3wEiHHMWh8kTme2Mlq",
      "include_colab_link": true
    },
    "kernelspec": {
      "name": "python3",
      "display_name": "Python 3"
    },
    "language_info": {
      "name": "python"
    }
  },
  "cells": [
    {
      "cell_type": "markdown",
      "metadata": {
        "id": "view-in-github",
        "colab_type": "text"
      },
      "source": [
        "<a href=\"https://colab.research.google.com/github/vikramrajeevreddy/NLP_Term_Project/blob/main/Term_Project_luhn.ipynb\" target=\"_parent\"><img src=\"https://colab.research.google.com/assets/colab-badge.svg\" alt=\"Open In Colab\"/></a>"
      ]
    },
    {
      "cell_type": "code",
      "execution_count": null,
      "metadata": {
        "id": "kst-QZpIY7iI"
      },
      "outputs": [],
      "source": [
        "import re\n",
        "import nltk\n",
        "import string\n",
        "import heapq\n",
        "\n",
        "\n",
        "import numpy as np\n",
        "import networkx as nx\n",
        "from nltk.cluster.util import cosine_distance"
      ]
    },
    {
      "cell_type": "code",
      "source": [
        "nltk.download('punkt')"
      ],
      "metadata": {
        "colab": {
          "base_uri": "https://localhost:8080/"
        },
        "id": "3B9Cl9PFZDIb",
        "outputId": "79c6dc6c-b374-4c42-ff19-fa5a74079a50"
      },
      "execution_count": null,
      "outputs": [
        {
          "output_type": "stream",
          "name": "stdout",
          "text": [
            "[nltk_data] Downloading package punkt to /root/nltk_data...\n",
            "[nltk_data]   Unzipping tokenizers/punkt.zip.\n"
          ]
        },
        {
          "output_type": "execute_result",
          "data": {
            "text/plain": [
              "True"
            ]
          },
          "metadata": {},
          "execution_count": 2
        }
      ]
    },
    {
      "cell_type": "code",
      "source": [
        "nltk.download('stopwords')"
      ],
      "metadata": {
        "colab": {
          "base_uri": "https://localhost:8080/"
        },
        "id": "-8IXOinTZFe4",
        "outputId": "00807934-5ff6-408d-949a-e2df407b3389"
      },
      "execution_count": null,
      "outputs": [
        {
          "output_type": "stream",
          "name": "stdout",
          "text": [
            "[nltk_data] Downloading package stopwords to /root/nltk_data...\n",
            "[nltk_data]   Unzipping corpora/stopwords.zip.\n"
          ]
        },
        {
          "output_type": "execute_result",
          "data": {
            "text/plain": [
              "True"
            ]
          },
          "metadata": {},
          "execution_count": 3
        }
      ]
    },
    {
      "cell_type": "code",
      "source": [
        "original_text = \"\"\"Several cooks and kitchen workers at the roadside canteen were arrested after investigators found that rice there contained datura, a poisonous weed of the nightshade family. Laboratory tests showed the rice contained quantities of the weed, which is otherwise known as thorn-apple. But physicians caring for some of the survivors have questioned whether the small amounts detected could have been the cause of illness. Reports said the victims, all of them men, began to become delirious within two hours after eating, with symptoms that included heavy salivating and extreme breathing difficulties. An account in The Pioneer, a newspaper published in New Delhi, described wrenching scenes among the victims, most of whom had come to the city to work from distant states like Uttar Pradesh in north-central India and were thus without family members to care for them. ''Almost all of them could be seen thrashing around, writhing with pain and tied with gauze bandages to their beds,'' the report said. Other accounts said that local hospitals had no supply available of an antitoxin that could have helped the men and that it was five days before supplies were flown in from Poland. The newspaper accounts of the discovery of the poisonous weed and the detention of canteen employees, two of whom fled 1,000 miles to their homes in Uttar Pradesh, also suggested possible motives. The accounts said the police were investigating the relationship between one of the detained employees and the canteen owner, who was among those who died. They also said the police were probing a possible link to a dispute that began when the owner resisted pressures from other canteen operators to raise prices. The episode has focused attention and renewed concern across India on the woeful conditions that face the vast majority of Indians who are poor, and in particular on the health hazards caused by the country's dismal public hygiene and sanitation. One recent study showed that 700 million of the country's 930 million people, having no toilets, either defecate into buckets or on open land. Shortcomings in hygiene, especially in the food chain, were emphasized by two other episodes of food poisoning, this time involving schoolchildren, that occurred in the same district as the textile town a week after the canteen disaster. Almost 440 children, most of them ages 6 to 12, fell ill after eating milk-based sweets known as pedas that schools distributed at celebrations commemorating India's independence on Aug. 15, 1947. The food had been kept unrefrigerated in 90-degree heat. None of the children died, though many remained in the hospital for days. The possibility that the canteen deaths resulted from datura poisoning set Indians to delving into folklore, which indicates that the weed has been used for centuries, especially in north India, for various kinds of skulduggery. The Pioneer reported that datura seeds ''are often mixed in food and offered to train passengers to knock them off and rob them.'' As early as the 16th century, accounts by early western travelers to India told of servants drugging their employers with the weed in order to rob them and of wives punishing unfaithful husbands by intoxicating them with datura-based potions. For decades, Indian leaders have promised crash programs to improve conditions. This year, Prime Minister H. D. Deve Gowda, who grew up the son of a poor farmer, renewed the pledges in his independence day speech. ''I regret that despite 50 years of independence, basic amenities still elude the rural and urban poor,'' he said in the speech in New Delhi on Thursday. He said his Government would increase spending on the poor and provide at least basic levels of sanitation, electricity and housing for all of India's people by 2000.\"\"\"\n",
        "original_text = re.sub(r'\\s+', ' ', original_text)\n",
        "original_text"
      ],
      "metadata": {
        "colab": {
          "base_uri": "https://localhost:8080/",
          "height": 122
        },
        "id": "ZqkeWUksZITs",
        "outputId": "c869d31a-d379-4442-db3a-43557419ffd8"
      },
      "execution_count": null,
      "outputs": [
        {
          "output_type": "execute_result",
          "data": {
            "text/plain": [
              "\"Several cooks and kitchen workers at the roadside canteen were arrested after investigators found that rice there contained datura, a poisonous weed of the nightshade family. Laboratory tests showed the rice contained quantities of the weed, which is otherwise known as thorn-apple. But physicians caring for some of the survivors have questioned whether the small amounts detected could have been the cause of illness. Reports said the victims, all of them men, began to become delirious within two hours after eating, with symptoms that included heavy salivating and extreme breathing difficulties. An account in The Pioneer, a newspaper published in New Delhi, described wrenching scenes among the victims, most of whom had come to the city to work from distant states like Uttar Pradesh in north-central India and were thus without family members to care for them. ''Almost all of them could be seen thrashing around, writhing with pain and tied with gauze bandages to their beds,'' the report said. Other accounts said that local hospitals had no supply available of an antitoxin that could have helped the men and that it was five days before supplies were flown in from Poland. The newspaper accounts of the discovery of the poisonous weed and the detention of canteen employees, two of whom fled 1,000 miles to their homes in Uttar Pradesh, also suggested possible motives. The accounts said the police were investigating the relationship between one of the detained employees and the canteen owner, who was among those who died. They also said the police were probing a possible link to a dispute that began when the owner resisted pressures from other canteen operators to raise prices. The episode has focused attention and renewed concern across India on the woeful conditions that face the vast majority of Indians who are poor, and in particular on the health hazards caused by the country's dismal public hygiene and sanitation. One recent study showed that 700 million of the country's 930 million people, having no toilets, either defecate into buckets or on open land. Shortcomings in hygiene, especially in the food chain, were emphasized by two other episodes of food poisoning, this time involving schoolchildren, that occurred in the same district as the textile town a week after the canteen disaster. Almost 440 children, most of them ages 6 to 12, fell ill after eating milk-based sweets known as pedas that schools distributed at celebrations commemorating India's independence on Aug. 15, 1947. The food had been kept unrefrigerated in 90-degree heat. None of the children died, though many remained in the hospital for days. The possibility that the canteen deaths resulted from datura poisoning set Indians to delving into folklore, which indicates that the weed has been used for centuries, especially in north India, for various kinds of skulduggery. The Pioneer reported that datura seeds ''are often mixed in food and offered to train passengers to knock them off and rob them.'' As early as the 16th century, accounts by early western travelers to India told of servants drugging their employers with the weed in order to rob them and of wives punishing unfaithful husbands by intoxicating them with datura-based potions. For decades, Indian leaders have promised crash programs to improve conditions. This year, Prime Minister H. D. Deve Gowda, who grew up the son of a poor farmer, renewed the pledges in his independence day speech. ''I regret that despite 50 years of independence, basic amenities still elude the rural and urban poor,'' he said in the speech in New Delhi on Thursday. He said his Government would increase spending on the poor and provide at least basic levels of sanitation, electricity and housing for all of India's people by 2000.\""
            ],
            "application/vnd.google.colaboratory.intrinsic+json": {
              "type": "string"
            }
          },
          "metadata": {},
          "execution_count": 4
        }
      ]
    },
    {
      "cell_type": "code",
      "source": [
        "stopwords = nltk.corpus.stopwords.words('english')\n",
        "print(stopwords)"
      ],
      "metadata": {
        "colab": {
          "base_uri": "https://localhost:8080/"
        },
        "id": "TpVsNd0pZLEg",
        "outputId": "17ec8413-2227-464d-c0ea-e367bb5f42f5"
      },
      "execution_count": null,
      "outputs": [
        {
          "output_type": "stream",
          "name": "stdout",
          "text": [
            "['i', 'me', 'my', 'myself', 'we', 'our', 'ours', 'ourselves', 'you', \"you're\", \"you've\", \"you'll\", \"you'd\", 'your', 'yours', 'yourself', 'yourselves', 'he', 'him', 'his', 'himself', 'she', \"she's\", 'her', 'hers', 'herself', 'it', \"it's\", 'its', 'itself', 'they', 'them', 'their', 'theirs', 'themselves', 'what', 'which', 'who', 'whom', 'this', 'that', \"that'll\", 'these', 'those', 'am', 'is', 'are', 'was', 'were', 'be', 'been', 'being', 'have', 'has', 'had', 'having', 'do', 'does', 'did', 'doing', 'a', 'an', 'the', 'and', 'but', 'if', 'or', 'because', 'as', 'until', 'while', 'of', 'at', 'by', 'for', 'with', 'about', 'against', 'between', 'into', 'through', 'during', 'before', 'after', 'above', 'below', 'to', 'from', 'up', 'down', 'in', 'out', 'on', 'off', 'over', 'under', 'again', 'further', 'then', 'once', 'here', 'there', 'when', 'where', 'why', 'how', 'all', 'any', 'both', 'each', 'few', 'more', 'most', 'other', 'some', 'such', 'no', 'nor', 'not', 'only', 'own', 'same', 'so', 'than', 'too', 'very', 's', 't', 'can', 'will', 'just', 'don', \"don't\", 'should', \"should've\", 'now', 'd', 'll', 'm', 'o', 're', 've', 'y', 'ain', 'aren', \"aren't\", 'couldn', \"couldn't\", 'didn', \"didn't\", 'doesn', \"doesn't\", 'hadn', \"hadn't\", 'hasn', \"hasn't\", 'haven', \"haven't\", 'isn', \"isn't\", 'ma', 'mightn', \"mightn't\", 'mustn', \"mustn't\", 'needn', \"needn't\", 'shan', \"shan't\", 'shouldn', \"shouldn't\", 'wasn', \"wasn't\", 'weren', \"weren't\", 'won', \"won't\", 'wouldn', \"wouldn't\"]\n"
          ]
        }
      ]
    },
    {
      "cell_type": "code",
      "source": [
        "stopwords.append('explanation')"
      ],
      "metadata": {
        "id": "hgcdqY3aZNQo"
      },
      "execution_count": null,
      "outputs": []
    },
    {
      "cell_type": "code",
      "source": [
        "def preprocess(text):\n",
        "  formatted_text = text.lower()\n",
        "  tokens = []\n",
        "  for token in nltk.word_tokenize(formatted_text):\n",
        "    tokens.append(token)\n",
        "  tokens = [word for word in tokens if word not in stopwords and word not in string.punctuation]\n",
        "  formatted_text = ' '.join(element for element in tokens)\n",
        "\n",
        "  return formatted_text"
      ],
      "metadata": {
        "id": "oD4T4R4tZSVd"
      },
      "execution_count": null,
      "outputs": []
    },
    {
      "cell_type": "code",
      "source": [
        "formatted_text = preprocess(original_text)\n",
        "formatted_text"
      ],
      "metadata": {
        "colab": {
          "base_uri": "https://localhost:8080/",
          "height": 122
        },
        "id": "IODoK7XbZXaO",
        "outputId": "e84ff071-7e13-4468-a375-23fd97e1a14d"
      },
      "execution_count": null,
      "outputs": [
        {
          "output_type": "execute_result",
          "data": {
            "text/plain": [
              "\"several cooks kitchen workers roadside canteen arrested investigators found rice contained datura poisonous weed nightshade family laboratory tests showed rice contained quantities weed otherwise known thorn-apple physicians caring survivors questioned whether small amounts detected could cause illness reports said victims men began become delirious within two hours eating symptoms included heavy salivating extreme breathing difficulties account pioneer newspaper published new delhi described wrenching scenes among victims come city work distant states like uttar pradesh north-central india thus without family members care ''almost could seen thrashing around writhing pain tied gauze bandages beds '' report said accounts said local hospitals supply available antitoxin could helped men five days supplies flown poland newspaper accounts discovery poisonous weed detention canteen employees two fled 1,000 miles homes uttar pradesh also suggested possible motives accounts said police investigating relationship one detained employees canteen owner among died also said police probing possible link dispute began owner resisted pressures canteen operators raise prices episode focused attention renewed concern across india woeful conditions face vast majority indians poor particular health hazards caused country 's dismal public hygiene sanitation one recent study showed 700 million country 's 930 million people toilets either defecate buckets open land shortcomings hygiene especially food chain emphasized two episodes food poisoning time involving schoolchildren occurred district textile town week canteen disaster almost 440 children ages 6 12 fell ill eating milk-based sweets known pedas schools distributed celebrations commemorating india 's independence aug. 15 1947. food kept unrefrigerated 90-degree heat none children died though many remained hospital days possibility canteen deaths resulted datura poisoning set indians delving folklore indicates weed used centuries especially north india various kinds skulduggery pioneer reported datura seeds ''are often mixed food offered train passengers knock rob '' early 16th century accounts early western travelers india told servants drugging employers weed order rob wives punishing unfaithful husbands intoxicating datura-based potions decades indian leaders promised crash programs improve conditions year prime minister h. d. deve gowda grew son poor farmer renewed pledges independence day speech ''i regret despite 50 years independence basic amenities still elude rural urban poor '' said speech new delhi thursday said government would increase spending poor provide least basic levels sanitation electricity housing india 's people 2000\""
            ],
            "application/vnd.google.colaboratory.intrinsic+json": {
              "type": "string"
            }
          },
          "metadata": {},
          "execution_count": 8
        }
      ]
    },
    {
      "cell_type": "code",
      "source": [
        "def calculate_sentences_score(sentences, important_words, distance):\n",
        "  scores = []\n",
        "  sentence_index = 0\n",
        "\n",
        "  for sentence in [nltk.word_tokenize(sentence) for sentence in sentences]:\n",
        "    #print('------------')\n",
        "    #print(sentence)\n",
        "\n",
        "    word_index = []\n",
        "    for word in important_words:\n",
        "      #print(word)\n",
        "      try:\n",
        "        word_index.append(sentence.index(word))\n",
        "      except ValueError:\n",
        "        pass\n",
        "\n",
        "    word_index.sort()\n",
        "    #print(word_index)\n",
        "\n",
        "    if len(word_index) == 0:\n",
        "      continue\n",
        "\n",
        "    # [0, 1, 5]\n",
        "    groups_list = []\n",
        "    group = [word_index[0]]\n",
        "    i = 1 # 3\n",
        "    while i < len(word_index): # 3\n",
        "      # first execution: 1 - 0 = 1\n",
        "      # second execution: 2 - 1 = 1\n",
        "      if word_index[i] - word_index[i - 1] < distance:\n",
        "        group.append(word_index[i])\n",
        "        #print('group', group)\n",
        "      else:\n",
        "        groups_list.append(group[:])\n",
        "        group = [word_index[i]]\n",
        "        #print('group', group)\n",
        "      i += 1\n",
        "    groups_list.append(group)\n",
        "    #print('all groups', groups_list)\n",
        "\n",
        "    max_group_score = 0\n",
        "    for g in groups_list:\n",
        "      #print(g)\n",
        "      important_words_in_group = len(g)\n",
        "      total_words_in_group = g[-1] - g[0] + 1\n",
        "      score = 1.0 * important_words_in_group**2 / total_words_in_group\n",
        "      #print('group score', score)\n",
        "\n",
        "      if score > max_group_score:\n",
        "        max_group_score = score\n",
        "\n",
        "    scores.append((max_group_score, sentence_index))\n",
        "    sentence_index += 1\n",
        "\n",
        "  #print('final scores', scores)\n",
        "  return scores"
      ],
      "metadata": {
        "id": "-d_MZNIaZd42"
      },
      "execution_count": null,
      "outputs": []
    },
    {
      "cell_type": "code",
      "source": [
        "test = ['a', 'b', 'c']\n",
        "test.index('a')"
      ],
      "metadata": {
        "colab": {
          "base_uri": "https://localhost:8080/"
        },
        "id": "m-V15Kx4ZgVm",
        "outputId": "3bc515e4-33a7-43db-c8f1-177c369e23d9"
      },
      "execution_count": null,
      "outputs": [
        {
          "output_type": "execute_result",
          "data": {
            "text/plain": [
              "0"
            ]
          },
          "metadata": {},
          "execution_count": 10
        }
      ]
    },
    {
      "cell_type": "code",
      "source": [
        "test = [0,1,3,4,6,9]\n",
        "test[-1], test[0] + 1"
      ],
      "metadata": {
        "colab": {
          "base_uri": "https://localhost:8080/"
        },
        "id": "PCo_WvX2Zipw",
        "outputId": "41b44338-9100-4abc-c4ce-40c30667d0e0"
      },
      "execution_count": null,
      "outputs": [
        {
          "output_type": "execute_result",
          "data": {
            "text/plain": [
              "(9, 1)"
            ]
          },
          "metadata": {},
          "execution_count": 11
        }
      ]
    },
    {
      "cell_type": "code",
      "source": [
        "def summarize(text, top_n_words, distance, number_of_sentences, percentage = 0):\n",
        "  original_sentences = [sentence for sentence in nltk.sent_tokenize(text)]\n",
        "  #print(original_sentences)\n",
        "  formatted_sentences = [preprocess(original_sentence) for original_sentence in original_sentences]\n",
        "  #print(formatted_sentences)\n",
        "  words = [word for sentence in formatted_sentences for word in nltk.word_tokenize(sentence)]\n",
        "  #print(words)\n",
        "  frequency = nltk.FreqDist(words)\n",
        "  #print(frequency)\n",
        "  #return frequency\n",
        "  top_n_words = [word[0] for word in frequency.most_common(top_n_words)]\n",
        "  #print(top_n_words)\n",
        "  sentences_score = calculate_sentences_score(formatted_sentences, top_n_words, distance)\n",
        "  #print(sentences_score)\n",
        "  if percentage > 0:\n",
        "    best_sentences = heapq.nlargest(int(len(formatted_sentences) * percentage), sentences_score)\n",
        "  else:  \n",
        "    best_sentences = heapq.nlargest(number_of_sentences, sentences_score)\n",
        "  #print(best_sentences)\n",
        "  best_sentences = [original_sentences[i] for (score, i) in best_sentences]\n",
        "  #print(best_sentences)\n",
        "  return original_sentences, best_sentences, sentences_score"
      ],
      "metadata": {
        "id": "F_1TdUcpZm6K"
      },
      "execution_count": null,
      "outputs": []
    },
    {
      "cell_type": "code",
      "source": [
        "original_sentences, best_sentences, sentences_score = summarize(original_text, 5, 2, 2)"
      ],
      "metadata": {
        "id": "LZe_EizCZpSM"
      },
      "execution_count": null,
      "outputs": []
    },
    {
      "cell_type": "code",
      "source": [
        "original_sentences"
      ],
      "metadata": {
        "colab": {
          "base_uri": "https://localhost:8080/"
        },
        "id": "wQry9FkqZrWa",
        "outputId": "8077cfc9-17d6-4b9d-ca61-af7289921d33"
      },
      "execution_count": null,
      "outputs": [
        {
          "output_type": "execute_result",
          "data": {
            "text/plain": [
              "['Several cooks and kitchen workers at the roadside canteen were arrested after investigators found that rice there contained datura, a poisonous weed of the nightshade family.',\n",
              " 'Laboratory tests showed the rice contained quantities of the weed, which is otherwise known as thorn-apple.',\n",
              " 'But physicians caring for some of the survivors have questioned whether the small amounts detected could have been the cause of illness.',\n",
              " 'Reports said the victims, all of them men, began to become delirious within two hours after eating, with symptoms that included heavy salivating and extreme breathing difficulties.',\n",
              " 'An account in The Pioneer, a newspaper published in New Delhi, described wrenching scenes among the victims, most of whom had come to the city to work from distant states like Uttar Pradesh in north-central India and were thus without family members to care for them.',\n",
              " \"''Almost all of them could be seen thrashing around, writhing with pain and tied with gauze bandages to their beds,'' the report said.\",\n",
              " 'Other accounts said that local hospitals had no supply available of an antitoxin that could have helped the men and that it was five days before supplies were flown in from Poland.',\n",
              " 'The newspaper accounts of the discovery of the poisonous weed and the detention of canteen employees, two of whom fled 1,000 miles to their homes in Uttar Pradesh, also suggested possible motives.',\n",
              " 'The accounts said the police were investigating the relationship between one of the detained employees and the canteen owner, who was among those who died.',\n",
              " 'They also said the police were probing a possible link to a dispute that began when the owner resisted pressures from other canteen operators to raise prices.',\n",
              " \"The episode has focused attention and renewed concern across India on the woeful conditions that face the vast majority of Indians who are poor, and in particular on the health hazards caused by the country's dismal public hygiene and sanitation.\",\n",
              " \"One recent study showed that 700 million of the country's 930 million people, having no toilets, either defecate into buckets or on open land.\",\n",
              " 'Shortcomings in hygiene, especially in the food chain, were emphasized by two other episodes of food poisoning, this time involving schoolchildren, that occurred in the same district as the textile town a week after the canteen disaster.',\n",
              " \"Almost 440 children, most of them ages 6 to 12, fell ill after eating milk-based sweets known as pedas that schools distributed at celebrations commemorating India's independence on Aug. 15, 1947.\",\n",
              " 'The food had been kept unrefrigerated in 90-degree heat.',\n",
              " 'None of the children died, though many remained in the hospital for days.',\n",
              " 'The possibility that the canteen deaths resulted from datura poisoning set Indians to delving into folklore, which indicates that the weed has been used for centuries, especially in north India, for various kinds of skulduggery.',\n",
              " \"The Pioneer reported that datura seeds ''are often mixed in food and offered to train passengers to knock them off and rob them.''\",\n",
              " 'As early as the 16th century, accounts by early western travelers to India told of servants drugging their employers with the weed in order to rob them and of wives punishing unfaithful husbands by intoxicating them with datura-based potions.',\n",
              " 'For decades, Indian leaders have promised crash programs to improve conditions.',\n",
              " 'This year, Prime Minister H. D. Deve Gowda, who grew up the son of a poor farmer, renewed the pledges in his independence day speech.',\n",
              " \"''I regret that despite 50 years of independence, basic amenities still elude the rural and urban poor,'' he said in the speech in New Delhi on Thursday.\",\n",
              " \"He said his Government would increase spending on the poor and provide at least basic levels of sanitation, electricity and housing for all of India's people by 2000.\"]"
            ]
          },
          "metadata": {},
          "execution_count": 14
        }
      ]
    },
    {
      "cell_type": "code",
      "source": [
        "best_sentences"
      ],
      "metadata": {
        "colab": {
          "base_uri": "https://localhost:8080/"
        },
        "id": "71algREmZtlT",
        "outputId": "59b6cd22-3a22-438e-f2b4-39834f7b768d"
      },
      "execution_count": null,
      "outputs": [
        {
          "output_type": "execute_result",
          "data": {
            "text/plain": [
              "['The newspaper accounts of the discovery of the poisonous weed and the detention of canteen employees, two of whom fled 1,000 miles to their homes in Uttar Pradesh, also suggested possible motives.',\n",
              " \"''Almost all of them could be seen thrashing around, writhing with pain and tied with gauze bandages to their beds,'' the report said.\"]"
            ]
          },
          "metadata": {},
          "execution_count": 15
        }
      ]
    },
    {
      "cell_type": "code",
      "source": [
        "reference = \"With the death toll at 52 in what has been described as India's worst food poisoning case in many years and with 18 more patients still in intensive care, investigators in a textile town north of Bombay say they are still unsure whether the episode was a case of mass murder or an accident. More than 120 people, most of them migrant workers at local textile plants, became ill 12 days ago after eating lunch at a canteen in Bhiwandi, a boom town about 75 miles north of Bombay.\""
      ],
      "metadata": {
        "id": "YUoDMDbKgU8r"
      },
      "execution_count": null,
      "outputs": []
    },
    {
      "cell_type": "code",
      "source": [
        "result = \"\".join(best_sentences)"
      ],
      "metadata": {
        "id": "KLllsU4rfYYE"
      },
      "execution_count": null,
      "outputs": []
    },
    {
      "cell_type": "code",
      "source": [
        "pip install rouge"
      ],
      "metadata": {
        "colab": {
          "base_uri": "https://localhost:8080/"
        },
        "id": "L4I-c4shgBPz",
        "outputId": "0ff258af-5718-4d82-adb1-ea8bd4f763c9"
      },
      "execution_count": null,
      "outputs": [
        {
          "output_type": "stream",
          "name": "stdout",
          "text": [
            "Collecting rouge\n",
            "  Downloading rouge-1.0.1-py3-none-any.whl (13 kB)\n",
            "Requirement already satisfied: six in /usr/local/lib/python3.7/dist-packages (from rouge) (1.15.0)\n",
            "Installing collected packages: rouge\n",
            "Successfully installed rouge-1.0.1\n"
          ]
        }
      ]
    },
    {
      "cell_type": "code",
      "source": [
        "from rouge import Rouge"
      ],
      "metadata": {
        "id": "2aRDIV-kgCup"
      },
      "execution_count": null,
      "outputs": []
    },
    {
      "cell_type": "code",
      "source": [
        "rouge = Rouge()\n"
      ],
      "metadata": {
        "id": "AM1wH_CBgEiX"
      },
      "execution_count": null,
      "outputs": []
    },
    {
      "cell_type": "code",
      "source": [
        "rouge.get_scores(result, reference)\n"
      ],
      "metadata": {
        "colab": {
          "base_uri": "https://localhost:8080/"
        },
        "id": "AvFB84-LgG1Q",
        "outputId": "8842879a-4cce-4095-e296-c141efde51c9"
      },
      "execution_count": null,
      "outputs": [
        {
          "output_type": "execute_result",
          "data": {
            "text/plain": [
              "[{'rouge-1': {'f': 0.14035087245306266,\n",
              "   'p': 0.18181818181818182,\n",
              "   'r': 0.11428571428571428},\n",
              "  'rouge-2': {'f': 0.014492748926697593,\n",
              "   'p': 0.019230769230769232,\n",
              "   'r': 0.011627906976744186},\n",
              "  'rouge-l': {'f': 0.10526315315481707,\n",
              "   'p': 0.13636363636363635,\n",
              "   'r': 0.08571428571428572}}]"
            ]
          },
          "metadata": {},
          "execution_count": 21
        }
      ]
    }
  ]
}