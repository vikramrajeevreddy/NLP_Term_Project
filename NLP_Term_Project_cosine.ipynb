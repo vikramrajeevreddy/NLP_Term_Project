{
  "nbformat": 4,
  "nbformat_minor": 0,
  "metadata": {
    "colab": {
      "name": "NLP_Term_Project_cosine.ipynb",
      "provenance": [],
      "collapsed_sections": [],
      "authorship_tag": "ABX9TyOT7aDLcETFHRJbchgl3orG",
      "include_colab_link": true
    },
    "kernelspec": {
      "name": "python3",
      "display_name": "Python 3"
    },
    "language_info": {
      "name": "python"
    }
  },
  "cells": [
    {
      "cell_type": "markdown",
      "metadata": {
        "id": "view-in-github",
        "colab_type": "text"
      },
      "source": [
        "<a href=\"https://colab.research.google.com/github/vikramrajeevreddy/NLP_Term_Project/blob/main/NLP_Term_Project_cosine.ipynb\" target=\"_parent\"><img src=\"https://colab.research.google.com/assets/colab-badge.svg\" alt=\"Open In Colab\"/></a>"
      ]
    },
    {
      "cell_type": "code",
      "execution_count": 2,
      "metadata": {
        "id": "IlxPxBV-b_3T"
      },
      "outputs": [],
      "source": [
        "import nltk\n",
        "from nltk.corpus import stopwords\n",
        "from nltk.cluster.util import cosine_distance\n",
        "from nltk.tokenize import sent_tokenize\n",
        "import numpy as np\n",
        "import networkx as nx\n",
        "import re"
      ]
    },
    {
      "cell_type": "code",
      "source": [
        "def read_article(text):  \n",
        "\n",
        "  sentences =[]        \n",
        "  sentences = sent_tokenize(text)  \n",
        "\n",
        "  for sentence in sentences:        \n",
        "    sentence.replace(\"[^a-zA-Z0-9]\",\" \")    \n",
        "   \n",
        "  return sentences"
      ],
      "metadata": {
        "id": "wZGNdafecHOT"
      },
      "execution_count": 3,
      "outputs": []
    },
    {
      "cell_type": "code",
      "source": [
        "def sentence_similarity(sent1,sent2,stopwords=None):    \n",
        "  if stopwords is None:        \n",
        "    stopwords = []        \n",
        "  sent1 = [w.lower() for w in sent1]    \n",
        "  sent2 = [w.lower() for w in sent2]\n",
        "        \n",
        "  all_words = list(set(sent1 + sent2))   \n",
        "     \n",
        "  vector1 = [0] * len(all_words)    \n",
        "  vector2 = [0] * len(all_words)        \n",
        "  #build the vector for the first sentence    \n",
        "  for w in sent1:        \n",
        "    if not w in stopwords:\n",
        "      vector1[all_words.index(w)]+=1                                                             \n",
        "  #build the vector for the second sentence    \n",
        "  for w in sent2:        \n",
        "    if not w in stopwords:            \n",
        "      vector2[all_words.index(w)]+=1 \n",
        "               \n",
        "  return 1-cosine_distance(vector1,vector2)"
      ],
      "metadata": {
        "id": "BpE_qx4WcT3G"
      },
      "execution_count": 4,
      "outputs": []
    },
    {
      "cell_type": "code",
      "source": [
        "def build_similarity_matrix(sentences,stop_words):\n",
        "  #create an empty similarity matrix\n",
        "  similarity_matrix = np.zeros((len(sentences),len(sentences)))\n",
        "  for idx1 in range(len(sentences)):\n",
        "      for idx2 in range(len(sentences)):\n",
        "        if idx1!=idx2:\n",
        "          similarity_matrix[idx1][idx2] = sentence_similarity(sentences[idx1],sentences[idx2],stop_words)\n",
        "  return similarity_matrix"
      ],
      "metadata": {
        "id": "WRGe0ZJ5c1KL"
      },
      "execution_count": 5,
      "outputs": []
    },
    {
      "cell_type": "code",
      "source": [
        "def generate_summary(text,top_n):\n",
        "  nltk.download('stopwords')    \n",
        "  nltk.download('punkt')\n",
        "  stop_words = stopwords.words('english')    \n",
        "  summarize_text = []\n",
        "  # Step1: read text and tokenize    \n",
        "  sentences = read_article(text)\n",
        "  # Step2: generate similarity matrix            \n",
        "  sentence_similarity_matrix = build_similarity_matrix(sentences,stop_words)\n",
        "  # Step3: Rank sentences in similarity matrix\n",
        "  sentence_similarity_graph = nx.from_numpy_array(sentence_similarity_matrix)\n",
        "  scores = nx.pagerank(sentence_similarity_graph)\n",
        "  # Step4: sort the rank and place top sentences\n",
        "  ranked_sentences = sorted(((scores[i],s) for i,s in enumerate(sentences)),reverse=True)\n",
        "  \n",
        "  # Step5: get the top n number of sentences based on rank\n",
        "  for i in range(top_n):\n",
        "    summarize_text.append(ranked_sentences[i][1])\n",
        "  # Step6 : output the summarized version\n",
        "  return \" \".join(summarize_text),len(sentences)"
      ],
      "metadata": {
        "id": "jDIPWcDIdCBZ"
      },
      "execution_count": 6,
      "outputs": []
    },
    {
      "cell_type": "code",
      "source": [
        "result = generate_summary(\"Several cooks and kitchen workers at the roadside canteen were arrested after investigators found that rice there contained datura, a poisonous weed of the nightshade family. Laboratory tests showed the rice contained quantities of the weed, which is otherwise known as thorn-apple. But physicians caring for some of the survivors have questioned whether the small amounts detected could have been the cause of illness. Reports said the victims, all of them men, began to become delirious within two hours after eating, with symptoms that included heavy salivating and extreme breathing difficulties. An account in The Pioneer, a newspaper published in New Delhi, described wrenching scenes among the victims, most of whom had come to the city to work from distant states like Uttar Pradesh in north-central India and were thus without family members to care for them. ''Almost all of them could be seen thrashing around, writhing with pain and tied with gauze bandages to their beds,'' the report said. Other accounts said that local hospitals had no supply available of an antitoxin that could have helped the men and that it was five days before supplies were flown in from Poland. The newspaper accounts of the discovery of the poisonous weed and the detention of canteen employees, two of whom fled 1,000 miles to their homes in Uttar Pradesh, also suggested possible motives. The accounts said the police were investigating the relationship between one of the detained employees and the canteen owner, who was among those who died. They also said the police were probing a possible link to a dispute that began when the owner resisted pressures from other canteen operators to raise prices. The episode has focused attention and renewed concern across India on the woeful conditions that face the vast majority of Indians who are poor, and in particular on the health hazards caused by the country's dismal public hygiene and sanitation. One recent study showed that 700 million of the country's 930 million people, having no toilets, either defecate into buckets or on open land. Shortcomings in hygiene, especially in the food chain, were emphasized by two other episodes of food poisoning, this time involving schoolchildren, that occurred in the same district as the textile town a week after the canteen disaster. Almost 440 children, most of them ages 6 to 12, fell ill after eating milk-based sweets known as pedas that schools distributed at celebrations commemorating India's independence on Aug. 15, 1947. The food had been kept unrefrigerated in 90-degree heat. None of the children died, though many remained in the hospital for days. The possibility that the canteen deaths resulted from datura poisoning set Indians to delving into folklore, which indicates that the weed has been used for centuries, especially in north India, for various kinds of skulduggery. The Pioneer reported that datura seeds ''are often mixed in food and offered to train passengers to knock them off and rob them.'' As early as the 16th century, accounts by early western travelers to India told of servants drugging their employers with the weed in order to rob them and of wives punishing unfaithful husbands by intoxicating them with datura-based potions. For decades, Indian leaders have promised crash programs to improve conditions. This year, Prime Minister H. D. Deve Gowda, who grew up the son of a poor farmer, renewed the pledges in his independence day speech. ''I regret that despite 50 years of independence, basic amenities still elude the rural and urban poor,'' he said in the speech in New Delhi on Thursday. He said his Government would increase spending on the poor and provide at least basic levels of sanitation, electricity and housing for all of India's people by 2000.\",2)"
      ],
      "metadata": {
        "colab": {
          "base_uri": "https://localhost:8080/"
        },
        "id": "YDqx5X8MdpBH",
        "outputId": "270cd07d-71f7-4b4e-ceb7-5d76716874ba"
      },
      "execution_count": 7,
      "outputs": [
        {
          "output_type": "stream",
          "name": "stdout",
          "text": [
            "[nltk_data] Downloading package stopwords to /root/nltk_data...\n",
            "[nltk_data]   Unzipping corpora/stopwords.zip.\n",
            "[nltk_data] Downloading package punkt to /root/nltk_data...\n",
            "[nltk_data]   Unzipping tokenizers/punkt.zip.\n"
          ]
        }
      ]
    },
    {
      "cell_type": "code",
      "source": [
        "result"
      ],
      "metadata": {
        "colab": {
          "base_uri": "https://localhost:8080/"
        },
        "id": "lj0yBCdRPrcX",
        "outputId": "b8054555-3ebd-41fd-bbea-d463009c5a1d"
      },
      "execution_count": 8,
      "outputs": [
        {
          "output_type": "execute_result",
          "data": {
            "text/plain": [
              "('The possibility that the canteen deaths resulted from datura poisoning set Indians to delving into folklore, which indicates that the weed has been used for centuries, especially in north India, for various kinds of skulduggery. Shortcomings in hygiene, especially in the food chain, were emphasized by two other episodes of food poisoning, this time involving schoolchildren, that occurred in the same district as the textile town a week after the canteen disaster.',\n",
              " 23)"
            ]
          },
          "metadata": {},
          "execution_count": 8
        }
      ]
    },
    {
      "cell_type": "code",
      "source": [
        "type(result)"
      ],
      "metadata": {
        "colab": {
          "base_uri": "https://localhost:8080/"
        },
        "id": "sOJEImsYP4vb",
        "outputId": "0ed8267c-399c-44c8-d897-0fb36304111a"
      },
      "execution_count": 9,
      "outputs": [
        {
          "output_type": "execute_result",
          "data": {
            "text/plain": [
              "tuple"
            ]
          },
          "metadata": {},
          "execution_count": 9
        }
      ]
    },
    {
      "cell_type": "code",
      "source": [
        "model_text, out = result"
      ],
      "metadata": {
        "id": "-Hb5BR7TP73C"
      },
      "execution_count": 10,
      "outputs": []
    },
    {
      "cell_type": "code",
      "source": [
        "model_text"
      ],
      "metadata": {
        "colab": {
          "base_uri": "https://localhost:8080/",
          "height": 70
        },
        "id": "QU7_WV4AQDDH",
        "outputId": "326f456d-9ca0-4e62-eae8-88a17f29bc04"
      },
      "execution_count": 11,
      "outputs": [
        {
          "output_type": "execute_result",
          "data": {
            "text/plain": [
              "'The possibility that the canteen deaths resulted from datura poisoning set Indians to delving into folklore, which indicates that the weed has been used for centuries, especially in north India, for various kinds of skulduggery. Shortcomings in hygiene, especially in the food chain, were emphasized by two other episodes of food poisoning, this time involving schoolchildren, that occurred in the same district as the textile town a week after the canteen disaster.'"
            ],
            "application/vnd.google.colaboratory.intrinsic+json": {
              "type": "string"
            }
          },
          "metadata": {},
          "execution_count": 11
        }
      ]
    },
    {
      "cell_type": "code",
      "source": [
        "reference = \"With the death toll at 52 in what has been described as India's worst food poisoning case in many years and with 18 more patients still in intensive care, investigators in a textile town north of Bombay say they are still unsure whether the episode was a case of mass murder or an accident. More than 120 people, most of them migrant workers at local textile plants, became ill 12 days ago after eating lunch at a canteen in Bhiwandi, a boom town about 75 miles north of Bombay.\""
      ],
      "metadata": {
        "id": "oFb9MDxIPwgz"
      },
      "execution_count": 12,
      "outputs": []
    },
    {
      "cell_type": "code",
      "source": [
        "pip install rouge"
      ],
      "metadata": {
        "colab": {
          "base_uri": "https://localhost:8080/"
        },
        "id": "l5ThauSqPaAb",
        "outputId": "2622c985-d146-4e8a-bc04-bf0ddac7ccbf"
      },
      "execution_count": 13,
      "outputs": [
        {
          "output_type": "stream",
          "name": "stdout",
          "text": [
            "Collecting rouge\n",
            "  Downloading rouge-1.0.1-py3-none-any.whl (13 kB)\n",
            "Requirement already satisfied: six in /usr/local/lib/python3.7/dist-packages (from rouge) (1.15.0)\n",
            "Installing collected packages: rouge\n",
            "Successfully installed rouge-1.0.1\n"
          ]
        }
      ]
    },
    {
      "cell_type": "code",
      "source": [
        "from rouge import Rouge"
      ],
      "metadata": {
        "id": "9u01jAQ6Pb5u"
      },
      "execution_count": 14,
      "outputs": []
    },
    {
      "cell_type": "code",
      "source": [
        "rouge = Rouge()\n"
      ],
      "metadata": {
        "id": "pws5zpiYPhb3"
      },
      "execution_count": 15,
      "outputs": []
    },
    {
      "cell_type": "code",
      "source": [
        "rouge.get_scores(model_text, reference)\n"
      ],
      "metadata": {
        "colab": {
          "base_uri": "https://localhost:8080/"
        },
        "id": "i_NivWZDPkKg",
        "outputId": "8715cb59-0fb4-4d71-8e04-8ff8eeba0020"
      },
      "execution_count": 16,
      "outputs": [
        {
          "output_type": "execute_result",
          "data": {
            "text/plain": [
              "[{'rouge-1': {'f': 0.22047243599727212, 'p': 0.24561403508771928, 'r': 0.2},\n",
              "  'rouge-2': {'f': 0.026143785926781224,\n",
              "   'p': 0.029850746268656716,\n",
              "   'r': 0.023255813953488372},\n",
              "  'rouge-l': {'f': 0.15748031001302018,\n",
              "   'p': 0.17543859649122806,\n",
              "   'r': 0.14285714285714285}}]"
            ]
          },
          "metadata": {},
          "execution_count": 16
        }
      ]
    }
  ]
}